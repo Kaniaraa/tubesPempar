{
 "cells": [
  {
   "cell_type": "code",
   "execution_count": 1,
   "metadata": {},
   "outputs": [],
   "source": [
    "from pyspark.sql import SparkSession\n",
    "from operator import add"
   ]
  },
  {
   "cell_type": "code",
   "execution_count": 2,
   "metadata": {},
   "outputs": [
    {
     "name": "stdout",
     "output_type": "stream",
     "text": [
      "\n",
      "5 Film dengan rating tertinggi:\n",
      "Kiss the Bride (2007): 10.0\n",
      "England, My England (1995): 10.0\n",
      "Rembrandt's J'accuse (2008): 10.0\n",
      "Sex & Mrs. X (2000): 10.0\n",
      "The Godfather Trilogy: 1901-1980 (1992): 9.8\n",
      "\n",
      "Film dengan durasi terpanjang:\n",
      "Die Zweite Heimat - Chronik einer Jugend (1992): 1525 menit\n",
      "\n",
      "Rata-rata tension film horror:\n",
      "Rata-rata tension: 0.97\n"
     ]
    }
   ],
   "source": [
    "spark = SparkSession.builder.appName(\"FilmTV RDD Analysis\").getOrCreate()\n",
    "\n",
    "path = \"dataset/filmtv_movies.csv\"\n",
    "df = spark.read \\\n",
    "    .option(\"header\", \"true\") \\\n",
    "    .option(\"inferSchema\", \"true\") \\\n",
    "    .option(\"delimiter\", \",\") \\\n",
    "    .csv(path)\n",
    "\n",
    "rdd = df.rdd\n",
    "\n",
    "print(\"\\n5 Film dengan rating tertinggi:\")\n",
    "top_rated = rdd.filter(lambda row: row['avg_vote'] is not None) \\\n",
    "               .takeOrdered(5, key=lambda x: -x['avg_vote'])\n",
    "\n",
    "for film in top_rated:\n",
    "    print(f\"{film['title']} ({film['year']}): {film['avg_vote']}\")\n",
    "\n",
    "print(\"\\nFilm dengan durasi terpanjang:\")\n",
    "def max_duration(a, b):\n",
    "    return a if a['duration'] > b['duration'] else b\n",
    "\n",
    "longest_film = rdd.filter(lambda row: row['duration'] is not None).reduce(max_duration)\n",
    "print(f\"{longest_film['title']} ({longest_film['year']}): {longest_film['duration']} menit\")\n",
    "\n",
    "print(\"\\nRata-rata tension film horror:\")\n",
    "\n",
    "def is_valid_tension(value):\n",
    "    try:\n",
    "        float(value)\n",
    "        return True\n",
    "    except:\n",
    "        return False\n",
    "\n",
    "horror_rdd = rdd.filter(\n",
    "    lambda row: row['genre'] and \"Horror\" in row['genre'] \n",
    "                and row['tension'] is not None \n",
    "                and is_valid_tension(row['tension'])\n",
    ")\n",
    "\n",
    "tension_values = horror_rdd.map(lambda row: float(row['tension']))\n",
    "count = tension_values.count()\n",
    "\n",
    "if count > 0:\n",
    "    avg_tension = tension_values.reduce(add) / count\n",
    "    print(f\"Rata-rata tension: {avg_tension:.2f}\")\n",
    "else:\n",
    "    print(\"Tidak ada film horror dengan data tension.\")\n",
    "\n",
    "spark.stop()\n"
   ]
  }
 ],
 "metadata": {
  "kernelspec": {
   "display_name": "Python 3",
   "language": "python",
   "name": "python3"
  },
  "language_info": {
   "codemirror_mode": {
    "name": "ipython",
    "version": 3
   },
   "file_extension": ".py",
   "mimetype": "text/x-python",
   "name": "python",
   "nbconvert_exporter": "python",
   "pygments_lexer": "ipython3",
   "version": "3.11.9"
  }
 },
 "nbformat": 4,
 "nbformat_minor": 2
}
