{
 "cells": [
  {
   "cell_type": "markdown",
   "id": "86d861e2",
   "metadata": {},
   "source": [
    "# Spark Session"
   ]
  },
  {
   "cell_type": "markdown",
   "id": "0f6ae9b2",
   "metadata": {},
   "source": [
    "## Import dan Membuat Spark Session"
   ]
  },
  {
   "cell_type": "code",
   "execution_count": 1,
   "id": "0306ee29",
   "metadata": {},
   "outputs": [
    {
     "ename": "ModuleNotFoundError",
     "evalue": "No module named 'pyspark'",
     "output_type": "error",
     "traceback": [
      "\u001b[31m---------------------------------------------------------------------------\u001b[39m",
      "\u001b[31mModuleNotFoundError\u001b[39m                       Traceback (most recent call last)",
      "\u001b[36mCell\u001b[39m\u001b[36m \u001b[39m\u001b[32mIn[1]\u001b[39m\u001b[32m, line 1\u001b[39m\n\u001b[32m----> \u001b[39m\u001b[32m1\u001b[39m \u001b[38;5;28;01mfrom\u001b[39;00m\u001b[38;5;250m \u001b[39m\u001b[34;01mpyspark\u001b[39;00m\u001b[34;01m.\u001b[39;00m\u001b[34;01msql\u001b[39;00m\u001b[38;5;250m \u001b[39m\u001b[38;5;28;01mimport\u001b[39;00m SparkSession\n\u001b[32m      3\u001b[39m spark = SparkSession.builder.appName(\u001b[33m\"\u001b[39m\u001b[33mFilmTV\u001b[39m\u001b[33m\"\u001b[39m).getOrCreate()\n",
      "\u001b[31mModuleNotFoundError\u001b[39m: No module named 'pyspark'"
     ]
    }
   ],
   "source": [
    "from pyspark.sql import SparkSession\n",
    "\n",
    "spark = SparkSession.builder.appName(\"FilmTV\").getOrCreate()"
   ]
  },
  {
   "cell_type": "markdown",
   "id": "e39c9a1a",
   "metadata": {},
   "source": [
    "## Membaca File"
   ]
  },
  {
   "cell_type": "code",
   "execution_count": null,
   "id": "4f7c3594",
   "metadata": {},
   "outputs": [],
   "source": [
    "df = spark.read.csv(\"sample_data/filmtv_movies.csv\", header=True, inferSchema=True)"
   ]
  },
  {
   "cell_type": "markdown",
   "id": "06317593",
   "metadata": {},
   "source": [
    "## Menampilkan 5 baris data"
   ]
  },
  {
   "cell_type": "code",
   "execution_count": null,
   "id": "a0a5342a",
   "metadata": {},
   "outputs": [],
   "source": [
    "df.show(5, truncate=False)"
   ]
  },
  {
   "cell_type": "markdown",
   "id": "aee4eede",
   "metadata": {},
   "source": [
    "## Query tabel film dengan data film yang terbit diatas tahun 1980"
   ]
  },
  {
   "cell_type": "code",
   "execution_count": null,
   "id": "9aa3a8ab",
   "metadata": {},
   "outputs": [],
   "source": [
    "spark.sql(\"SELECT title, genre, year FROM movies WHERE year >= 1980\").show()"
   ]
  }
 ],
 "metadata": {
  "kernelspec": {
   "display_name": "Python 3",
   "language": "python",
   "name": "python3"
  },
  "language_info": {
   "codemirror_mode": {
    "name": "ipython",
    "version": 3
   },
   "file_extension": ".py",
   "mimetype": "text/x-python",
   "name": "python",
   "nbconvert_exporter": "python",
   "pygments_lexer": "ipython3",
   "version": "3.13.3"
  }
 },
 "nbformat": 4,
 "nbformat_minor": 5
}
